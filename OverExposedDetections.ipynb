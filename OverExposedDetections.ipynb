{
 "cells": [
  {
   "cell_type": "code",
   "execution_count": null,
   "id": "59ef283f",
   "metadata": {},
   "outputs": [],
   "source": [
    "# Inporting the Libraries\n",
    "import os\n",
    "import cv2\n",
    "import sys\n",
    "import shutil\n",
    "from skimage.exposure import is_low_contrast\n",
    "import numpy as np\n",
    "from imutils import paths\n",
    "\n",
    "#Directory Paths for Input & Output - (Exposed & Not Exposed)\n",
    "input_path = \"  ---  Input Path  ---  \"\n",
    "exposed_path = \"  ---  Output Path for EXPOSED IMAGES  ---  \"\n",
    "not_exposed_path = \"  ---  Output Path for NOT EXPOSED IMAGES  ---  \"\n",
    "\n",
    "#Converting all images into array\n",
    "mylist = os.listdir(input_path)\n",
    "print(\"Threshold - 0.80\")\n",
    "\n",
    "#Total number of Images in Input path\n",
    "total_images = len(mylist)\n",
    "print(\"Total Images: \", total_images)\n",
    "\n",
    "# FOR Loop - To iterate on all the images of array\n",
    "for file in mylist:\n",
    "\n",
    "#Creating Full path using Concatenation Method on file name\n",
    "    image_full_path = input_path +\"/\"+ file\n",
    "    image = cv2.imread(image_full_path)\n",
    "    \n",
    "#Converting the Color Images into Gray Images\n",
    "    gray = cv2.cvtColor(image, cv2.COLOR_BGR2GRAY)\n",
    "\n",
    "#Threshold value can be varied as per requirements (0.80)\n",
    "    if (is_low_contrast(gray, 0.80)):\n",
    "        \n",
    "#To COPY the Over Exposed Images to the Over Exposed folder as per the IF Condition\n",
    "        shutil.copy(image_full_path, exposed_path)\n",
    "    else:\n",
    "        \n",
    "#To COPY the Over Not Exposed Images to the Not Exposed folder as per the IF Condition\n",
    "        shutil.copy(image_full_path, not_exposed_path)\n",
    "\n",
    "#To Print the Count of Total Over Exposed Images from Over Exposed Folder    \n",
    "print(\"Total Over Exposed Images: \", len(os.listdir(exposed_path)))\n",
    "\n",
    "#To Print the Count of Total Not Exposed Images from Not Exposed Folder    \n",
    "print(\"Total Not Exposed Images: \", len(os.listdir(not_exposed_path)))\n",
    "\n"
   ]
  }
 ],
 "metadata": {
  "kernelspec": {
   "display_name": "Python 3 (ipykernel)",
   "language": "python",
   "name": "python3"
  },
  "language_info": {
   "codemirror_mode": {
    "name": "ipython",
    "version": 3
   },
   "file_extension": ".py",
   "mimetype": "text/x-python",
   "name": "python",
   "nbconvert_exporter": "python",
   "pygments_lexer": "ipython3",
   "version": "3.9.13"
  }
 },
 "nbformat": 4,
 "nbformat_minor": 5
}
